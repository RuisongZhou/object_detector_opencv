{
 "cells": [
  {
   "cell_type": "code",
   "execution_count": 7,
   "metadata": {},
   "outputs": [],
   "source": [
    "import os"
   ]
  },
  {
   "cell_type": "code",
   "execution_count": 8,
   "metadata": {},
   "outputs": [],
   "source": [
    "class Config(object):\n",
    "    def __init__(self, project_id=None):\n",
    "        \n",
    "        # General Config\n",
    "        self.DES_TYPE = \"HOG\"\n",
    "        self.CLF_TYPE = \"LIN_SVM\"\n",
    "        if project_id:\n",
    "            self.PROJECT_ID = project_id\n",
    "        else:\n",
    "            self.PROJECT_ID = \"New_Vedio_New_Neg\" + self.DES_TYPE + '_' + self.CLF_TYPE\n",
    "        self.THRESHOLD = 0.3\n",
    "        self.DOWNSCALE = 1.25\n",
    "        \n",
    "        # Pathes\n",
    "        self.update_names()\n",
    "        \n",
    "        # HOG Features\n",
    "        self.MIN_WDW_SIZE = [64, 64]\n",
    "        self.STEP_SIZE = [12, 12]\n",
    "        self.ORIENTATIONS = 9\n",
    "        self.PIXELS_PER_CELL = [3, 3]\n",
    "        self.CELLS_PER_BLOCK = [3, 3]\n",
    "        self.VISUALIZE = False\n",
    "        self.NORMALIZE = True\n",
    "        self.IF_PRINT  = False\n",
    "        self.KEEP_FEAT = False\n",
    "        \n",
    "        # LBP Features\n",
    "        self.LBP_RADIUS = 3\n",
    "        self.LBP_POINTS = 8 * self.LBP_RADIUS\n",
    "        \n",
    "        self.mk_new_dirs()\n",
    "        \n",
    "    def mk_new_dirs(self):\n",
    "        for ph in self.DIR_PATHS.values():\n",
    "            if not os.path.exists(ph):\n",
    "                os.makedirs(ph)\n",
    "                print(\"==> Directory Tree\",ph,\"created\")\n",
    "                \n",
    "    def update_names(self):\n",
    "        # Pathes\n",
    "        self.DIR_PATHS = {\n",
    "            \"POS_FEAT_PH\"    : os.path.join(\"./source/features\", self.PROJECT_ID,\"pos\"),\n",
    "            \"NEG_FEAT_PH\"    : os.path.join(\"./source/features\", self.PROJECT_ID,\"neg\"),\n",
    "            \"MODEL_DIR_PH\"   : os.path.join(\"./source/models\", self.PROJECT_ID),\n",
    "            \"PRED_SAVE_PH\"   : os.path.join(\"./source/predictions\", self.PROJECT_ID),\n",
    "            \"POS_IMG_PH\"     : \"./source/images/pos\",\n",
    "            \"NEG_IMG_PH\"     : \"./source/images/neg\",\n",
    "            \"TEST_IMG_DIR_PH\": \"./source/test_images\"}\n",
    "        self.MODEL_PH = os.path.join(self.DIR_PATHS[\"MODEL_DIR_PH\"], \"svm.model\")\n",
    "        self.TEST_IMG_PH = os.path.join(self.DIR_PATHS[\"TEST_IMG_DIR_PH\"], \"test.jpg\")\n",
    "                \n"
   ]
  },
  {
   "cell_type": "code",
   "execution_count": 9,
   "metadata": {},
   "outputs": [],
   "source": [
    "args = Config()"
   ]
  },
  {
   "cell_type": "code",
   "execution_count": null,
   "metadata": {},
   "outputs": [],
   "source": []
  }
 ],
 "metadata": {
  "kernelspec": {
   "display_name": "Python 3",
   "language": "python",
   "name": "python3"
  },
  "language_info": {
   "codemirror_mode": {
    "name": "ipython",
    "version": 3
   },
   "file_extension": ".py",
   "mimetype": "text/x-python",
   "name": "python",
   "nbconvert_exporter": "python",
   "pygments_lexer": "ipython3",
   "version": "3.7.0"
  }
 },
 "nbformat": 4,
 "nbformat_minor": 2
}
