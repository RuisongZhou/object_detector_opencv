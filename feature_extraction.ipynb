{
 "cells": [
  {
   "cell_type": "code",
   "execution_count": 1,
   "metadata": {},
   "outputs": [],
   "source": [
    "## Image Preprocessed"
   ]
  },
  {
   "cell_type": "code",
   "execution_count": 1,
   "metadata": {},
   "outputs": [],
   "source": [
    "import os\n",
    "import glob\n",
    "import shutil\n",
    "import cv2\n",
    "import numpy as np\n",
    "\n",
    "import matplotlib.pyplot as plt\n",
    "from matplotlib.pyplot import imshow\n",
    "\n",
    "from tqdm import tqdm\n",
    "from PIL import Image\n",
    "from sklearn.svm import LinearSVC\n",
    "from sklearn.neural_network import MLPClassifier\n",
    "from skimage.feature import hog\n",
    "from skimage.feature import haar_like_feature\n",
    "from skimage.feature import local_binary_pattern as lbp\n",
    "from skimage.io import imread\n",
    "from skimage.transform import pyramid_gaussian, integral_image\n",
    "from sklearn.externals import joblib\n",
    "\n",
    "%matplotlib inline"
   ]
  },
  {
   "cell_type": "code",
   "execution_count": 2,
   "metadata": {},
   "outputs": [],
   "source": [
    "def resize_by_short(img, short_len=64):\n",
    "    \"\"\"按照短边进行所需比例缩放\"\"\"\n",
    "    (x, y) = img.size\n",
    "    if x>y:\n",
    "        y_s=short_len\n",
    "        x_s=int(x*y_s/y)\n",
    "        x_l=int(x_s/2)-int(short_len/2)\n",
    "        x_r=int(x_s/2)+int(short_len/2)\n",
    "        img = img.resize((x_s, y_s))\n",
    "        box = (x_l, 0, x_r, short_len)\n",
    "        img = img.crop(box)\n",
    "    else:\n",
    "        x_s=short_len\n",
    "        y_s=int(y*x_s/x)\n",
    "        y_l=int(y_s/2)-int(short_len/2)\n",
    "        y_r=int(y_s/2)+int(short_len/2)\n",
    "        img = img.resize((x_s, y_s))\n",
    "        box = (0, y_l, short_len, y_r)\n",
    "        img = img.crop(box)\n",
    "    return img"
   ]
  },
  {
   "cell_type": "code",
   "execution_count": 3,
   "metadata": {},
   "outputs": [],
   "source": [
    "# feature extraction"
   ]
  },
  {
   "cell_type": "code",
   "execution_count": 4,
   "metadata": {},
   "outputs": [],
   "source": [
    "def image_preprocess_size(args=object, short_len = '64'):\n",
    "    pPath = args.DIR_PATHS[\"POS_IMG_PH\"] + '/'\n",
    "    nPath = args.DIR_PATHS[\"NEG_IMG_PH\"] + '/'\n",
    "    pImages=[pPath+x for x in os.listdir(pPath) if not x.startswith('.')]\n",
    "    nImages=[nPath+x for x in os.listdir(nPath) if not x.startswith('.')]\n",
    "    \n",
    "    sizes_pos = []\n",
    "    sizes_neg=[]\n",
    "    for img_name in pImages:\n",
    "        img = Image.open(img_name)\n",
    "        sizes_pos.append(img.size)\n",
    "        img=resize_by_short(img, short_len)\n",
    "        img.save(pPath + os.path.split(img_name)[1])\n",
    "\n",
    "    for img_name in images:\n",
    "        img = Image.open(img_name)\n",
    "        sizes_neg.append(img.size)\n",
    "        img=resize_by_short(img, short_len)\n",
    "        img.save(nPath + os.path.split(img_name)[1])"
   ]
  },
  {
   "cell_type": "code",
   "execution_count": 5,
   "metadata": {},
   "outputs": [],
   "source": [
    "def process_image(image, args=object):\n",
    "    if args.DES_TYPE == \"HOG\":\n",
    "        fd = hog(image, block_norm='L2', pixels_per_cell=args.PIXELS_PER_CELL)\n",
    "    elif args.DES_TYPE == \"LBP\":\n",
    "        fd = lbp(image, args.LBP_POINTS, args.LBP_RADIUS)\n",
    "    elif args.DES_TYPE == \"HAAR\":\n",
    "        fd = haar_like_feature(integral_image(image), 0, 0, 5, 5, 'type-3-x')\n",
    "    else:\n",
    "        raise KeyError(\"==> The Processing method does not exist!\")\n",
    "    return fd"
   ]
  },
  {
   "cell_type": "code",
   "execution_count": 6,
   "metadata": {},
   "outputs": [],
   "source": [
    "def extract_features(args=object):\n",
    "    if os.path.exists(args.DIR_PATHS[\"POS_FEAT_PH\"]):\n",
    "        shutil.rmtree(args.DIR_PATHS[\"POS_FEAT_PH\"])\n",
    "    if os.path.exists(args.DIR_PATHS[\"NEG_FEAT_PH\"]):\n",
    "        shutil.rmtree(args.DIR_PATHS[\"NEG_FEAT_PH\"])\n",
    "    os.makedirs(args.DIR_PATHS[\"POS_FEAT_PH\"])\n",
    "    os.makedirs(args.DIR_PATHS[\"NEG_FEAT_PH\"])\n",
    "\n",
    "    print(\"==> Calculating the descriptors for the positive samples and saving them\")\n",
    "    for im_path in tqdm(glob.glob(os.path.join(args.DIR_PATHS[\"POS_IMG_PH\"], \"*\"))):\n",
    "        im = imread(im_path, as_grey=True)\n",
    "        fd = process_image(im)\n",
    "        fd_name = os.path.split(im_path)[1].split(\".\")[0] + \".feat\"\n",
    "        fd_path = os.path.join(args.DIR_PATHS[\"POS_FEAT_PH\"], fd_name)\n",
    "        joblib.dump(fd, fd_path)\n",
    "    print(\"==> Positive features saved in {}\".format(args.DIR_PATHS[\"POS_FEAT_PH\"]))\n",
    "\n",
    "    print(\"==> Calculating the descriptors for the negative samples and saving them\")\n",
    "    for im_path in tqdm(glob.glob(os.path.join(args.DIR_PATHS[\"NEG_IMG_PH\"], \"*\"))):\n",
    "        im = imread(im_path, as_grey=True)\n",
    "        fd = process_image(im)\n",
    "        fd_name = os.path.split(im_path)[1].split(\".\")[0] + \".feat\"\n",
    "        fd_path = os.path.join(args.DIR_PATHS[\"NEG_FEAT_PH\"], fd_name)\n",
    "        joblib.dump(fd, fd_path)\n",
    "    print(\"==> Negative features saved in {}\".format(args.DIR_PATHS[\"NEG_FEAT_PH\"]))\n",
    "    print(\"==> Completed calculating features from training images\")\n"
   ]
  },
  {
   "cell_type": "code",
   "execution_count": null,
   "metadata": {},
   "outputs": [],
   "source": []
  }
 ],
 "metadata": {
  "kernelspec": {
   "display_name": "Python 3",
   "language": "python",
   "name": "python3"
  },
  "language_info": {
   "codemirror_mode": {
    "name": "ipython",
    "version": 3
   },
   "file_extension": ".py",
   "mimetype": "text/x-python",
   "name": "python",
   "nbconvert_exporter": "python",
   "pygments_lexer": "ipython3",
   "version": "3.7.0"
  }
 },
 "nbformat": 4,
 "nbformat_minor": 2
}
